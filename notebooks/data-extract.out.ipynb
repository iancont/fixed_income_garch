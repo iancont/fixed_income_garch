{
 "cells": [
  {
   "cell_type": "markdown",
   "metadata": {},
   "source": [
    "# Data Extract\n",
    "\n",
    "Ian Contreras"
   ],
   "id": "49e1add5-d2e8-4806-88e2-21e3beae6a7f"
  },
  {
   "cell_type": "code",
   "execution_count": 1,
   "metadata": {},
   "outputs": [],
   "source": [
    "#| label: importing-libraries\n",
    "import pandas as pd\n",
    "import os"
   ],
   "id": "importing-libraries"
  },
  {
   "cell_type": "code",
   "execution_count": 2,
   "metadata": {},
   "outputs": [
    {
     "output_type": "stream",
     "name": "stdout",
     "text": [
      "Current Working Directory: C:\\Users\\contr\\OneDrive - INTEC\\TRI 9\\ECONOM\\fixed_income_garch\\notebooks"
     ]
    }
   ],
   "source": [
    "#| label: irp\n",
    "print(\"Current Working Directory:\", os.getcwd())\n",
    "df = pd.read_excel(r\"..\\\\data\\\\inputs\\\\historico_gobix_dr.xlsx\",\n",
    "                   sheet_name=\"Indice Retorno Precio\")\n",
    "df = df.rename(columns={'Fecha': 'date', 'Valor': 'irp'})\n",
    "df['date'] = pd.to_datetime(df['date'])\n",
    "df = df.set_index('date')\n",
    "df[\"price_return\"] = df[\"irp\"].pct_change()\n",
    "df = df.dropna()\n",
    "df = df[df.index <= '2021-09-30']\n",
    "df['price_return'] = df['price_return'] * 10_000\n",
    "df.to_csv('..\\\\data\\\\csv\\\\irp.csv')"
   ],
   "id": "irp"
  }
 ],
 "nbformat": 4,
 "nbformat_minor": 5,
 "metadata": {}
}
